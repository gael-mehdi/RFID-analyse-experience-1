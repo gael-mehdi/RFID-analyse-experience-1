{
 "cells": [
  {
   "cell_type": "markdown",
   "metadata": {},
   "source": [
    "#"
   ]
  },
  {
   "cell_type": "code",
   "execution_count": 581,
   "metadata": {},
   "outputs": [],
   "source": [
    "import pandas as pd\n",
    "import numpy as np\n",
    "import matplotlib.pyplot as plt\n",
    "import seaborn as sns"
   ]
  },
  {
   "cell_type": "code",
   "execution_count": 582,
   "metadata": {},
   "outputs": [
    {
     "data": {
      "text/html": [
       "<div>\n",
       "<style scoped>\n",
       "    .dataframe tbody tr th:only-of-type {\n",
       "        vertical-align: middle;\n",
       "    }\n",
       "\n",
       "    .dataframe tbody tr th {\n",
       "        vertical-align: top;\n",
       "    }\n",
       "\n",
       "    .dataframe thead th {\n",
       "        text-align: right;\n",
       "    }\n",
       "</style>\n",
       "<table border=\"1\" class=\"dataframe\">\n",
       "  <thead>\n",
       "    <tr style=\"text-align: right;\">\n",
       "      <th></th>\n",
       "      <th>EPC</th>\n",
       "      <th>actual</th>\n",
       "    </tr>\n",
       "  </thead>\n",
       "  <tbody>\n",
       "    <tr>\n",
       "      <th>0</th>\n",
       "      <td>0000001000000174503867DE</td>\n",
       "      <td>P</td>\n",
       "    </tr>\n",
       "    <tr>\n",
       "      <th>1</th>\n",
       "      <td>0000001000000174503905F3</td>\n",
       "      <td>P</td>\n",
       "    </tr>\n",
       "    <tr>\n",
       "      <th>2</th>\n",
       "      <td>00000010000001745038862E</td>\n",
       "      <td>P</td>\n",
       "    </tr>\n",
       "    <tr>\n",
       "      <th>3</th>\n",
       "      <td>0000001000000174503892A9</td>\n",
       "      <td>P</td>\n",
       "    </tr>\n",
       "    <tr>\n",
       "      <th>4</th>\n",
       "      <td>0000001000000174503917D2</td>\n",
       "      <td>P</td>\n",
       "    </tr>\n",
       "    <tr>\n",
       "      <th>...</th>\n",
       "      <td>...</td>\n",
       "      <td>...</td>\n",
       "    </tr>\n",
       "    <tr>\n",
       "      <th>95</th>\n",
       "      <td>0000001000000174503904C2</td>\n",
       "      <td>P</td>\n",
       "    </tr>\n",
       "    <tr>\n",
       "      <th>96</th>\n",
       "      <td>000000100000017450385835</td>\n",
       "      <td>P</td>\n",
       "    </tr>\n",
       "    <tr>\n",
       "      <th>97</th>\n",
       "      <td>000000100000017451876265</td>\n",
       "      <td>P</td>\n",
       "    </tr>\n",
       "    <tr>\n",
       "      <th>98</th>\n",
       "      <td>00000010000001745039469D</td>\n",
       "      <td>P</td>\n",
       "    </tr>\n",
       "    <tr>\n",
       "      <th>99</th>\n",
       "      <td>000000100000017450387268</td>\n",
       "      <td>P</td>\n",
       "    </tr>\n",
       "  </tbody>\n",
       "</table>\n",
       "<p>100 rows × 2 columns</p>\n",
       "</div>"
      ],
      "text/plain": [
       "                         EPC actual\n",
       "0   0000001000000174503867DE      P\n",
       "1   0000001000000174503905F3      P\n",
       "2   00000010000001745038862E      P\n",
       "3   0000001000000174503892A9      P\n",
       "4   0000001000000174503917D2      P\n",
       "..                       ...    ...\n",
       "95  0000001000000174503904C2      P\n",
       "96  000000100000017450385835      P\n",
       "97  000000100000017451876265      P\n",
       "98  00000010000001745039469D      P\n",
       "99  000000100000017450387268      P\n",
       "\n",
       "[100 rows x 2 columns]"
      ]
     },
     "execution_count": 582,
     "metadata": {},
     "output_type": "execute_result"
    }
   ],
   "source": [
    "data_path_p = \"P.csv\" # import data\n",
    "\n",
    "Actual_p = pd.read_csv(data_path_p, names = [\"EPC\"])\n",
    "Actual_p['actual'] = 'P'\n",
    "Actual_p"
   ]
  },
  {
   "cell_type": "code",
   "execution_count": 583,
   "metadata": {},
   "outputs": [
    {
     "data": {
      "text/html": [
       "<div>\n",
       "<style scoped>\n",
       "    .dataframe tbody tr th:only-of-type {\n",
       "        vertical-align: middle;\n",
       "    }\n",
       "\n",
       "    .dataframe tbody tr th {\n",
       "        vertical-align: top;\n",
       "    }\n",
       "\n",
       "    .dataframe thead th {\n",
       "        text-align: right;\n",
       "    }\n",
       "</style>\n",
       "<table border=\"1\" class=\"dataframe\">\n",
       "  <thead>\n",
       "    <tr style=\"text-align: right;\">\n",
       "      <th></th>\n",
       "      <th>EPC</th>\n",
       "      <th>actual</th>\n",
       "    </tr>\n",
       "  </thead>\n",
       "  <tbody>\n",
       "    <tr>\n",
       "      <th>0</th>\n",
       "      <td>00000010000001745040118C</td>\n",
       "      <td>N</td>\n",
       "    </tr>\n",
       "    <tr>\n",
       "      <th>1</th>\n",
       "      <td>0000001000000174504027EF</td>\n",
       "      <td>N</td>\n",
       "    </tr>\n",
       "    <tr>\n",
       "      <th>2</th>\n",
       "      <td>00000010000001745039618C</td>\n",
       "      <td>N</td>\n",
       "    </tr>\n",
       "    <tr>\n",
       "      <th>3</th>\n",
       "      <td>000000100000017450396548</td>\n",
       "      <td>N</td>\n",
       "    </tr>\n",
       "    <tr>\n",
       "      <th>4</th>\n",
       "      <td>000000100000017450402149</td>\n",
       "      <td>N</td>\n",
       "    </tr>\n",
       "    <tr>\n",
       "      <th>...</th>\n",
       "      <td>...</td>\n",
       "      <td>...</td>\n",
       "    </tr>\n",
       "    <tr>\n",
       "      <th>95</th>\n",
       "      <td>000000100000017450400847</td>\n",
       "      <td>N</td>\n",
       "    </tr>\n",
       "    <tr>\n",
       "      <th>96</th>\n",
       "      <td>0000001000000174503988C5</td>\n",
       "      <td>N</td>\n",
       "    </tr>\n",
       "    <tr>\n",
       "      <th>97</th>\n",
       "      <td>0000001000000174503989F4</td>\n",
       "      <td>N</td>\n",
       "    </tr>\n",
       "    <tr>\n",
       "      <th>98</th>\n",
       "      <td>000000100000017450392575</td>\n",
       "      <td>N</td>\n",
       "    </tr>\n",
       "    <tr>\n",
       "      <th>99</th>\n",
       "      <td>0000001000000174503916E3</td>\n",
       "      <td>N</td>\n",
       "    </tr>\n",
       "  </tbody>\n",
       "</table>\n",
       "<p>100 rows × 2 columns</p>\n",
       "</div>"
      ],
      "text/plain": [
       "                         EPC actual\n",
       "0   00000010000001745040118C      N\n",
       "1   0000001000000174504027EF      N\n",
       "2   00000010000001745039618C      N\n",
       "3   000000100000017450396548      N\n",
       "4   000000100000017450402149      N\n",
       "..                       ...    ...\n",
       "95  000000100000017450400847      N\n",
       "96  0000001000000174503988C5      N\n",
       "97  0000001000000174503989F4      N\n",
       "98  000000100000017450392575      N\n",
       "99  0000001000000174503916E3      N\n",
       "\n",
       "[100 rows x 2 columns]"
      ]
     },
     "execution_count": 583,
     "metadata": {},
     "output_type": "execute_result"
    }
   ],
   "source": [
    "data_path_n = \"N.csv\" # import data\n",
    "\n",
    "Actual_n = pd.read_csv(data_path_n, names = [\"EPC\"])\n",
    "Actual_n['actual'] = 'N'\n",
    "Actual_n"
   ]
  },
  {
   "cell_type": "markdown",
   "metadata": {},
   "source": [
    "# Actuals"
   ]
  },
  {
   "cell_type": "code",
   "execution_count": 584,
   "metadata": {},
   "outputs": [
    {
     "data": {
      "text/html": [
       "<div>\n",
       "<style scoped>\n",
       "    .dataframe tbody tr th:only-of-type {\n",
       "        vertical-align: middle;\n",
       "    }\n",
       "\n",
       "    .dataframe tbody tr th {\n",
       "        vertical-align: top;\n",
       "    }\n",
       "\n",
       "    .dataframe thead th {\n",
       "        text-align: right;\n",
       "    }\n",
       "</style>\n",
       "<table border=\"1\" class=\"dataframe\">\n",
       "  <thead>\n",
       "    <tr style=\"text-align: right;\">\n",
       "      <th></th>\n",
       "      <th>EPC</th>\n",
       "      <th>actual</th>\n",
       "    </tr>\n",
       "  </thead>\n",
       "  <tbody>\n",
       "    <tr>\n",
       "      <th>0</th>\n",
       "      <td>0000001000000174503867DE</td>\n",
       "      <td>P</td>\n",
       "    </tr>\n",
       "    <tr>\n",
       "      <th>1</th>\n",
       "      <td>0000001000000174503905F3</td>\n",
       "      <td>P</td>\n",
       "    </tr>\n",
       "    <tr>\n",
       "      <th>2</th>\n",
       "      <td>00000010000001745038862E</td>\n",
       "      <td>P</td>\n",
       "    </tr>\n",
       "    <tr>\n",
       "      <th>3</th>\n",
       "      <td>0000001000000174503892A9</td>\n",
       "      <td>P</td>\n",
       "    </tr>\n",
       "    <tr>\n",
       "      <th>4</th>\n",
       "      <td>0000001000000174503917D2</td>\n",
       "      <td>P</td>\n",
       "    </tr>\n",
       "    <tr>\n",
       "      <th>...</th>\n",
       "      <td>...</td>\n",
       "      <td>...</td>\n",
       "    </tr>\n",
       "    <tr>\n",
       "      <th>195</th>\n",
       "      <td>000000100000017450400847</td>\n",
       "      <td>N</td>\n",
       "    </tr>\n",
       "    <tr>\n",
       "      <th>196</th>\n",
       "      <td>0000001000000174503988C5</td>\n",
       "      <td>N</td>\n",
       "    </tr>\n",
       "    <tr>\n",
       "      <th>197</th>\n",
       "      <td>0000001000000174503989F4</td>\n",
       "      <td>N</td>\n",
       "    </tr>\n",
       "    <tr>\n",
       "      <th>198</th>\n",
       "      <td>000000100000017450392575</td>\n",
       "      <td>N</td>\n",
       "    </tr>\n",
       "    <tr>\n",
       "      <th>199</th>\n",
       "      <td>0000001000000174503916E3</td>\n",
       "      <td>N</td>\n",
       "    </tr>\n",
       "  </tbody>\n",
       "</table>\n",
       "<p>200 rows × 2 columns</p>\n",
       "</div>"
      ],
      "text/plain": [
       "                          EPC actual\n",
       "0    0000001000000174503867DE      P\n",
       "1    0000001000000174503905F3      P\n",
       "2    00000010000001745038862E      P\n",
       "3    0000001000000174503892A9      P\n",
       "4    0000001000000174503917D2      P\n",
       "..                        ...    ...\n",
       "195  000000100000017450400847      N\n",
       "196  0000001000000174503988C5      N\n",
       "197  0000001000000174503989F4      N\n",
       "198  000000100000017450392575      N\n",
       "199  0000001000000174503916E3      N\n",
       "\n",
       "[200 rows x 2 columns]"
      ]
     },
     "execution_count": 584,
     "metadata": {},
     "output_type": "execute_result"
    }
   ],
   "source": [
    "Actuals = pd.concat([Actual_p, Actual_n], axis=0).reset_index(drop=True)\n",
    "Actuals"
   ]
  },
  {
   "cell_type": "code",
   "execution_count": 585,
   "metadata": {},
   "outputs": [
    {
     "data": {
      "text/html": [
       "<div>\n",
       "<style scoped>\n",
       "    .dataframe tbody tr th:only-of-type {\n",
       "        vertical-align: middle;\n",
       "    }\n",
       "\n",
       "    .dataframe tbody tr th {\n",
       "        vertical-align: top;\n",
       "    }\n",
       "\n",
       "    .dataframe thead th {\n",
       "        text-align: right;\n",
       "    }\n",
       "</style>\n",
       "<table border=\"1\" class=\"dataframe\">\n",
       "  <thead>\n",
       "    <tr style=\"text-align: right;\">\n",
       "      <th></th>\n",
       "      <th>EPC</th>\n",
       "    </tr>\n",
       "    <tr>\n",
       "      <th>actual</th>\n",
       "      <th></th>\n",
       "    </tr>\n",
       "  </thead>\n",
       "  <tbody>\n",
       "    <tr>\n",
       "      <th>N</th>\n",
       "      <td>100</td>\n",
       "    </tr>\n",
       "    <tr>\n",
       "      <th>P</th>\n",
       "      <td>100</td>\n",
       "    </tr>\n",
       "  </tbody>\n",
       "</table>\n",
       "</div>"
      ],
      "text/plain": [
       "        EPC\n",
       "actual     \n",
       "N       100\n",
       "P       100"
      ]
     },
     "execution_count": 585,
     "metadata": {},
     "output_type": "execute_result"
    }
   ],
   "source": [
    "Actuals.groupby('actual').count()"
   ]
  },
  {
   "cell_type": "code",
   "execution_count": 586,
   "metadata": {},
   "outputs": [
    {
     "data": {
      "text/plain": [
       "actual\n",
       "N    100\n",
       "P    100\n",
       "dtype: int64"
      ]
     },
     "execution_count": 586,
     "metadata": {},
     "output_type": "execute_result"
    }
   ],
   "source": [
    "Actuals.groupby('actual').size()"
   ]
  },
  {
   "cell_type": "code",
   "execution_count": 587,
   "metadata": {},
   "outputs": [
    {
     "data": {
      "text/html": [
       "<div>\n",
       "<style scoped>\n",
       "    .dataframe tbody tr th:only-of-type {\n",
       "        vertical-align: middle;\n",
       "    }\n",
       "\n",
       "    .dataframe tbody tr th {\n",
       "        vertical-align: top;\n",
       "    }\n",
       "\n",
       "    .dataframe thead th {\n",
       "        text-align: right;\n",
       "    }\n",
       "</style>\n",
       "<table border=\"1\" class=\"dataframe\">\n",
       "  <thead>\n",
       "    <tr style=\"text-align: right;\">\n",
       "      <th></th>\n",
       "      <th>Timestamp</th>\n",
       "      <th>EPC</th>\n",
       "      <th>TID</th>\n",
       "      <th>Antenna</th>\n",
       "      <th>RSSI</th>\n",
       "      <th>Frequency</th>\n",
       "      <th>Hostname</th>\n",
       "      <th>PhaseAngle</th>\n",
       "      <th>DopplerFrequency</th>\n",
       "    </tr>\n",
       "  </thead>\n",
       "  <tbody>\n",
       "    <tr>\n",
       "      <th>0</th>\n",
       "      <td>2024-12-13T13:58:18.7718740+01:00</td>\n",
       "      <td>000000100000017450404665</td>\n",
       "      <td>NaN</td>\n",
       "      <td>1</td>\n",
       "      <td>-76.0</td>\n",
       "      <td>865.7</td>\n",
       "      <td>169.254.1.1</td>\n",
       "      <td>NaN</td>\n",
       "      <td>NaN</td>\n",
       "    </tr>\n",
       "    <tr>\n",
       "      <th>1</th>\n",
       "      <td>2024-12-13T13:58:18.7718740+01:00</td>\n",
       "      <td>000000100000017450404665</td>\n",
       "      <td>NaN</td>\n",
       "      <td>1</td>\n",
       "      <td>-76.0</td>\n",
       "      <td>865.7</td>\n",
       "      <td>169.254.1.1</td>\n",
       "      <td>NaN</td>\n",
       "      <td>NaN</td>\n",
       "    </tr>\n",
       "    <tr>\n",
       "      <th>2</th>\n",
       "      <td>2024-12-13T13:58:18.7718740+01:00</td>\n",
       "      <td>000000100000017450404665</td>\n",
       "      <td>NaN</td>\n",
       "      <td>1</td>\n",
       "      <td>-76.0</td>\n",
       "      <td>865.7</td>\n",
       "      <td>169.254.1.1</td>\n",
       "      <td>NaN</td>\n",
       "      <td>NaN</td>\n",
       "    </tr>\n",
       "    <tr>\n",
       "      <th>3</th>\n",
       "      <td>2024-12-13T13:58:18.7718740+01:00</td>\n",
       "      <td>000000100000017450404665</td>\n",
       "      <td>NaN</td>\n",
       "      <td>1</td>\n",
       "      <td>-76.0</td>\n",
       "      <td>865.7</td>\n",
       "      <td>169.254.1.1</td>\n",
       "      <td>NaN</td>\n",
       "      <td>NaN</td>\n",
       "    </tr>\n",
       "    <tr>\n",
       "      <th>4</th>\n",
       "      <td>2024-12-13T13:58:18.7757780+01:00</td>\n",
       "      <td>0000001000000174504052E2</td>\n",
       "      <td>NaN</td>\n",
       "      <td>1</td>\n",
       "      <td>-76.5</td>\n",
       "      <td>865.7</td>\n",
       "      <td>169.254.1.1</td>\n",
       "      <td>NaN</td>\n",
       "      <td>NaN</td>\n",
       "    </tr>\n",
       "  </tbody>\n",
       "</table>\n",
       "</div>"
      ],
      "text/plain": [
       "                           Timestamp                       EPC  TID  Antenna   \n",
       "0  2024-12-13T13:58:18.7718740+01:00  000000100000017450404665  NaN        1  \\\n",
       "1  2024-12-13T13:58:18.7718740+01:00  000000100000017450404665  NaN        1   \n",
       "2  2024-12-13T13:58:18.7718740+01:00  000000100000017450404665  NaN        1   \n",
       "3  2024-12-13T13:58:18.7718740+01:00  000000100000017450404665  NaN        1   \n",
       "4  2024-12-13T13:58:18.7757780+01:00  0000001000000174504052E2  NaN        1   \n",
       "\n",
       "   RSSI  Frequency     Hostname  PhaseAngle  DopplerFrequency  \n",
       "0 -76.0      865.7  169.254.1.1         NaN               NaN  \n",
       "1 -76.0      865.7  169.254.1.1         NaN               NaN  \n",
       "2 -76.0      865.7  169.254.1.1         NaN               NaN  \n",
       "3 -76.0      865.7  169.254.1.1         NaN               NaN  \n",
       "4 -76.5      865.7  169.254.1.1         NaN               NaN  "
      ]
     },
     "execution_count": 587,
     "metadata": {},
     "output_type": "execute_result"
    }
   ],
   "source": [
    "tags = pd.read_csv(\"ismin_13dec2024_14h.csv\", skiprows=3, sep=';', decimal=\",\", names = [\"Timestamp\", \"EPC\", \"TID\", \"Antenna\", \"RSSI\", \"Frequency\", \"Hostname\", \"PhaseAngle\", \"DopplerFrequency\"])\n",
    "tags.head()"
   ]
  },
  {
   "cell_type": "code",
   "execution_count": 588,
   "metadata": {},
   "outputs": [
    {
     "data": {
      "text/html": [
       "<div>\n",
       "<style scoped>\n",
       "    .dataframe tbody tr th:only-of-type {\n",
       "        vertical-align: middle;\n",
       "    }\n",
       "\n",
       "    .dataframe tbody tr th {\n",
       "        vertical-align: top;\n",
       "    }\n",
       "\n",
       "    .dataframe thead th {\n",
       "        text-align: right;\n",
       "    }\n",
       "</style>\n",
       "<table border=\"1\" class=\"dataframe\">\n",
       "  <thead>\n",
       "    <tr style=\"text-align: right;\">\n",
       "      <th></th>\n",
       "      <th>Timestamp</th>\n",
       "      <th>EPC</th>\n",
       "      <th>Antenna</th>\n",
       "      <th>RSSI</th>\n",
       "    </tr>\n",
       "  </thead>\n",
       "  <tbody>\n",
       "    <tr>\n",
       "      <th>0</th>\n",
       "      <td>2024-12-13T13:58:18.7718740+01:00</td>\n",
       "      <td>000000100000017450404665</td>\n",
       "      <td>1</td>\n",
       "      <td>-76.0</td>\n",
       "    </tr>\n",
       "    <tr>\n",
       "      <th>1</th>\n",
       "      <td>2024-12-13T13:58:18.7718740+01:00</td>\n",
       "      <td>000000100000017450404665</td>\n",
       "      <td>1</td>\n",
       "      <td>-76.0</td>\n",
       "    </tr>\n",
       "    <tr>\n",
       "      <th>2</th>\n",
       "      <td>2024-12-13T13:58:18.7718740+01:00</td>\n",
       "      <td>000000100000017450404665</td>\n",
       "      <td>1</td>\n",
       "      <td>-76.0</td>\n",
       "    </tr>\n",
       "    <tr>\n",
       "      <th>3</th>\n",
       "      <td>2024-12-13T13:58:18.7718740+01:00</td>\n",
       "      <td>000000100000017450404665</td>\n",
       "      <td>1</td>\n",
       "      <td>-76.0</td>\n",
       "    </tr>\n",
       "    <tr>\n",
       "      <th>4</th>\n",
       "      <td>2024-12-13T13:58:18.7757780+01:00</td>\n",
       "      <td>0000001000000174504052E2</td>\n",
       "      <td>1</td>\n",
       "      <td>-76.5</td>\n",
       "    </tr>\n",
       "    <tr>\n",
       "      <th>...</th>\n",
       "      <td>...</td>\n",
       "      <td>...</td>\n",
       "      <td>...</td>\n",
       "      <td>...</td>\n",
       "    </tr>\n",
       "    <tr>\n",
       "      <th>3659</th>\n",
       "      <td>2024-12-13T13:58:26.2122420+01:00</td>\n",
       "      <td>0000001000000174504000FE</td>\n",
       "      <td>3</td>\n",
       "      <td>-71.0</td>\n",
       "    </tr>\n",
       "    <tr>\n",
       "      <th>3660</th>\n",
       "      <td>2024-12-13T13:58:26.2442340+01:00</td>\n",
       "      <td>000000100000017450397658</td>\n",
       "      <td>4</td>\n",
       "      <td>-67.5</td>\n",
       "    </tr>\n",
       "    <tr>\n",
       "      <th>3661</th>\n",
       "      <td>2024-12-13T13:58:26.2442340+01:00</td>\n",
       "      <td>000000100000017450397658</td>\n",
       "      <td>4</td>\n",
       "      <td>-67.5</td>\n",
       "    </tr>\n",
       "    <tr>\n",
       "      <th>3662</th>\n",
       "      <td>2024-12-13T13:58:26.2442340+01:00</td>\n",
       "      <td>000000100000017450397658</td>\n",
       "      <td>4</td>\n",
       "      <td>-67.5</td>\n",
       "    </tr>\n",
       "    <tr>\n",
       "      <th>3663</th>\n",
       "      <td>2024-12-13T13:58:26.2442340+01:00</td>\n",
       "      <td>000000100000017450397658</td>\n",
       "      <td>4</td>\n",
       "      <td>-67.5</td>\n",
       "    </tr>\n",
       "  </tbody>\n",
       "</table>\n",
       "<p>3664 rows × 4 columns</p>\n",
       "</div>"
      ],
      "text/plain": [
       "                              Timestamp                       EPC  Antenna   \n",
       "0     2024-12-13T13:58:18.7718740+01:00  000000100000017450404665        1  \\\n",
       "1     2024-12-13T13:58:18.7718740+01:00  000000100000017450404665        1   \n",
       "2     2024-12-13T13:58:18.7718740+01:00  000000100000017450404665        1   \n",
       "3     2024-12-13T13:58:18.7718740+01:00  000000100000017450404665        1   \n",
       "4     2024-12-13T13:58:18.7757780+01:00  0000001000000174504052E2        1   \n",
       "...                                 ...                       ...      ...   \n",
       "3659  2024-12-13T13:58:26.2122420+01:00  0000001000000174504000FE        3   \n",
       "3660  2024-12-13T13:58:26.2442340+01:00  000000100000017450397658        4   \n",
       "3661  2024-12-13T13:58:26.2442340+01:00  000000100000017450397658        4   \n",
       "3662  2024-12-13T13:58:26.2442340+01:00  000000100000017450397658        4   \n",
       "3663  2024-12-13T13:58:26.2442340+01:00  000000100000017450397658        4   \n",
       "\n",
       "      RSSI  \n",
       "0    -76.0  \n",
       "1    -76.0  \n",
       "2    -76.0  \n",
       "3    -76.0  \n",
       "4    -76.5  \n",
       "...    ...  \n",
       "3659 -71.0  \n",
       "3660 -67.5  \n",
       "3661 -67.5  \n",
       "3662 -67.5  \n",
       "3663 -67.5  \n",
       "\n",
       "[3664 rows x 4 columns]"
      ]
     },
     "execution_count": 588,
     "metadata": {},
     "output_type": "execute_result"
    }
   ],
   "source": [
    "tags = tags[[\"Timestamp\", \"EPC\", \"Antenna\", \"RSSI\"]]\n",
    "tags"
   ]
  },
  {
   "cell_type": "code",
   "execution_count": 589,
   "metadata": {},
   "outputs": [
    {
     "data": {
      "text/plain": [
       "Timestamp     object\n",
       "EPC           object\n",
       "Antenna        int64\n",
       "RSSI         float64\n",
       "dtype: object"
      ]
     },
     "execution_count": 589,
     "metadata": {},
     "output_type": "execute_result"
    }
   ],
   "source": [
    "tags = tags.drop_duplicates().reset_index(drop=True)\n",
    "tags.dtypes"
   ]
  },
  {
   "cell_type": "code",
   "execution_count": 590,
   "metadata": {},
   "outputs": [
    {
     "data": {
      "text/plain": [
       "Timestamp    datetime64[ns, UTC+01:00]\n",
       "EPC                             object\n",
       "Antenna                          int64\n",
       "RSSI                           float64\n",
       "dtype: object"
      ]
     },
     "execution_count": 590,
     "metadata": {},
     "output_type": "execute_result"
    }
   ],
   "source": [
    "tags[\"Timestamp\"] = pd.to_datetime(tags['Timestamp'])\n",
    "tags.dtypes"
   ]
  },
  {
   "cell_type": "code",
   "execution_count": 591,
   "metadata": {},
   "outputs": [
    {
     "data": {
      "text/plain": [
       "7.47236"
      ]
     },
     "execution_count": 591,
     "metadata": {},
     "output_type": "execute_result"
    }
   ],
   "source": [
    "# Durée du tir\n",
    "duree = tags[\"Timestamp\"].max() - tags[\"Timestamp\"].min()\n",
    "duree.total_seconds()"
   ]
  },
  {
   "cell_type": "code",
   "execution_count": 592,
   "metadata": {},
   "outputs": [
    {
     "data": {
      "text/plain": [
       "(916, 4)"
      ]
     },
     "execution_count": 592,
     "metadata": {},
     "output_type": "execute_result"
    }
   ],
   "source": [
    "tags.shape"
   ]
  },
  {
   "cell_type": "code",
   "execution_count": 593,
   "metadata": {},
   "outputs": [
    {
     "data": {
      "text/plain": [
       "193"
      ]
     },
     "execution_count": 593,
     "metadata": {},
     "output_type": "execute_result"
    }
   ],
   "source": [
    "tags[\"EPC\"].nunique()"
   ]
  },
  {
   "cell_type": "code",
   "execution_count": 594,
   "metadata": {},
   "outputs": [
    {
     "data": {
      "text/html": [
       "<div>\n",
       "<style scoped>\n",
       "    .dataframe tbody tr th:only-of-type {\n",
       "        vertical-align: middle;\n",
       "    }\n",
       "\n",
       "    .dataframe tbody tr th {\n",
       "        vertical-align: top;\n",
       "    }\n",
       "\n",
       "    .dataframe thead th {\n",
       "        text-align: right;\n",
       "    }\n",
       "</style>\n",
       "<table border=\"1\" class=\"dataframe\">\n",
       "  <thead>\n",
       "    <tr style=\"text-align: right;\">\n",
       "      <th></th>\n",
       "      <th>Timestamp</th>\n",
       "      <th>EPC</th>\n",
       "      <th>Antenna</th>\n",
       "      <th>RSSI</th>\n",
       "    </tr>\n",
       "  </thead>\n",
       "  <tbody>\n",
       "    <tr>\n",
       "      <th>0</th>\n",
       "      <td>2024-12-13 13:58:18.771874+01:00</td>\n",
       "      <td>000000100000017450404665</td>\n",
       "      <td>1</td>\n",
       "      <td>-76.0</td>\n",
       "    </tr>\n",
       "    <tr>\n",
       "      <th>1</th>\n",
       "      <td>2024-12-13 13:58:18.775778+01:00</td>\n",
       "      <td>0000001000000174504052E2</td>\n",
       "      <td>1</td>\n",
       "      <td>-76.5</td>\n",
       "    </tr>\n",
       "    <tr>\n",
       "      <th>2</th>\n",
       "      <td>2024-12-13 13:58:18.781405+01:00</td>\n",
       "      <td>0000001000000174504001CF</td>\n",
       "      <td>1</td>\n",
       "      <td>-79.0</td>\n",
       "    </tr>\n",
       "    <tr>\n",
       "      <th>3</th>\n",
       "      <td>2024-12-13 13:58:18.817221+01:00</td>\n",
       "      <td>0C0000000000000000000000</td>\n",
       "      <td>2</td>\n",
       "      <td>-66.0</td>\n",
       "    </tr>\n",
       "    <tr>\n",
       "      <th>4</th>\n",
       "      <td>2024-12-13 13:58:18.820954+01:00</td>\n",
       "      <td>00007DC3160F270713F20859</td>\n",
       "      <td>2</td>\n",
       "      <td>-59.5</td>\n",
       "    </tr>\n",
       "  </tbody>\n",
       "</table>\n",
       "</div>"
      ],
      "text/plain": [
       "                         Timestamp                       EPC  Antenna  RSSI\n",
       "0 2024-12-13 13:58:18.771874+01:00  000000100000017450404665        1 -76.0\n",
       "1 2024-12-13 13:58:18.775778+01:00  0000001000000174504052E2        1 -76.5\n",
       "2 2024-12-13 13:58:18.781405+01:00  0000001000000174504001CF        1 -79.0\n",
       "3 2024-12-13 13:58:18.817221+01:00  0C0000000000000000000000        2 -66.0\n",
       "4 2024-12-13 13:58:18.820954+01:00  00007DC3160F270713F20859        2 -59.5"
      ]
     },
     "execution_count": 594,
     "metadata": {},
     "output_type": "execute_result"
    }
   ],
   "source": [
    "tags.head()"
   ]
  },
  {
   "cell_type": "code",
   "execution_count": 595,
   "metadata": {},
   "outputs": [
    {
     "data": {
      "text/html": [
       "<div>\n",
       "<style scoped>\n",
       "    .dataframe tbody tr th:only-of-type {\n",
       "        vertical-align: middle;\n",
       "    }\n",
       "\n",
       "    .dataframe tbody tr th {\n",
       "        vertical-align: top;\n",
       "    }\n",
       "\n",
       "    .dataframe thead th {\n",
       "        text-align: right;\n",
       "    }\n",
       "</style>\n",
       "<table border=\"1\" class=\"dataframe\">\n",
       "  <thead>\n",
       "    <tr style=\"text-align: right;\">\n",
       "      <th></th>\n",
       "      <th>EPC</th>\n",
       "      <th>actual</th>\n",
       "    </tr>\n",
       "  </thead>\n",
       "  <tbody>\n",
       "    <tr>\n",
       "      <th>0</th>\n",
       "      <td>0000001000000174503867DE</td>\n",
       "      <td>P</td>\n",
       "    </tr>\n",
       "    <tr>\n",
       "      <th>1</th>\n",
       "      <td>0000001000000174503905F3</td>\n",
       "      <td>P</td>\n",
       "    </tr>\n",
       "    <tr>\n",
       "      <th>2</th>\n",
       "      <td>00000010000001745038862E</td>\n",
       "      <td>P</td>\n",
       "    </tr>\n",
       "    <tr>\n",
       "      <th>3</th>\n",
       "      <td>0000001000000174503892A9</td>\n",
       "      <td>P</td>\n",
       "    </tr>\n",
       "    <tr>\n",
       "      <th>4</th>\n",
       "      <td>0000001000000174503917D2</td>\n",
       "      <td>P</td>\n",
       "    </tr>\n",
       "  </tbody>\n",
       "</table>\n",
       "</div>"
      ],
      "text/plain": [
       "                        EPC actual\n",
       "0  0000001000000174503867DE      P\n",
       "1  0000001000000174503905F3      P\n",
       "2  00000010000001745038862E      P\n",
       "3  0000001000000174503892A9      P\n",
       "4  0000001000000174503917D2      P"
      ]
     },
     "execution_count": 595,
     "metadata": {},
     "output_type": "execute_result"
    }
   ],
   "source": [
    "Actuals.head()"
   ]
  },
  {
   "cell_type": "code",
   "execution_count": 596,
   "metadata": {},
   "outputs": [
    {
     "data": {
      "text/html": [
       "<div>\n",
       "<style scoped>\n",
       "    .dataframe tbody tr th:only-of-type {\n",
       "        vertical-align: middle;\n",
       "    }\n",
       "\n",
       "    .dataframe tbody tr th {\n",
       "        vertical-align: top;\n",
       "    }\n",
       "\n",
       "    .dataframe thead th {\n",
       "        text-align: right;\n",
       "    }\n",
       "</style>\n",
       "<table border=\"1\" class=\"dataframe\">\n",
       "  <thead>\n",
       "    <tr style=\"text-align: right;\">\n",
       "      <th></th>\n",
       "      <th>Timestamp</th>\n",
       "      <th>EPC</th>\n",
       "      <th>Antenna</th>\n",
       "      <th>RSSI</th>\n",
       "      <th>actual</th>\n",
       "    </tr>\n",
       "  </thead>\n",
       "  <tbody>\n",
       "    <tr>\n",
       "      <th>0</th>\n",
       "      <td>2024-12-13 13:58:18.771874+01:00</td>\n",
       "      <td>000000100000017450404665</td>\n",
       "      <td>1</td>\n",
       "      <td>-76.0</td>\n",
       "      <td>N</td>\n",
       "    </tr>\n",
       "    <tr>\n",
       "      <th>1</th>\n",
       "      <td>2024-12-13 13:58:20.047636+01:00</td>\n",
       "      <td>000000100000017450404665</td>\n",
       "      <td>3</td>\n",
       "      <td>-74.5</td>\n",
       "      <td>N</td>\n",
       "    </tr>\n",
       "    <tr>\n",
       "      <th>2</th>\n",
       "      <td>2024-12-13 13:58:21.309841+01:00</td>\n",
       "      <td>000000100000017450404665</td>\n",
       "      <td>3</td>\n",
       "      <td>-77.0</td>\n",
       "      <td>N</td>\n",
       "    </tr>\n",
       "    <tr>\n",
       "      <th>3</th>\n",
       "      <td>2024-12-13 13:58:22.711631+01:00</td>\n",
       "      <td>000000100000017450404665</td>\n",
       "      <td>3</td>\n",
       "      <td>-70.5</td>\n",
       "      <td>N</td>\n",
       "    </tr>\n",
       "    <tr>\n",
       "      <th>4</th>\n",
       "      <td>2024-12-13 13:58:24.021113+01:00</td>\n",
       "      <td>000000100000017450404665</td>\n",
       "      <td>1</td>\n",
       "      <td>-76.0</td>\n",
       "      <td>N</td>\n",
       "    </tr>\n",
       "  </tbody>\n",
       "</table>\n",
       "</div>"
      ],
      "text/plain": [
       "                         Timestamp                       EPC  Antenna  RSSI   \n",
       "0 2024-12-13 13:58:18.771874+01:00  000000100000017450404665        1 -76.0  \\\n",
       "1 2024-12-13 13:58:20.047636+01:00  000000100000017450404665        3 -74.5   \n",
       "2 2024-12-13 13:58:21.309841+01:00  000000100000017450404665        3 -77.0   \n",
       "3 2024-12-13 13:58:22.711631+01:00  000000100000017450404665        3 -70.5   \n",
       "4 2024-12-13 13:58:24.021113+01:00  000000100000017450404665        1 -76.0   \n",
       "\n",
       "  actual  \n",
       "0      N  \n",
       "1      N  \n",
       "2      N  \n",
       "3      N  \n",
       "4      N  "
      ]
     },
     "execution_count": 596,
     "metadata": {},
     "output_type": "execute_result"
    }
   ],
   "source": [
    "tags = tags.merge(Actuals, on=\"EPC\", how=\"inner\")\n",
    "tags.head()"
   ]
  },
  {
   "cell_type": "code",
   "execution_count": 597,
   "metadata": {},
   "outputs": [
    {
     "data": {
      "text/plain": [
       "array(['N', 'P'], dtype=object)"
      ]
     },
     "execution_count": 597,
     "metadata": {},
     "output_type": "execute_result"
    }
   ],
   "source": [
    "tags[\"actual\"].unique()"
   ]
  },
  {
   "cell_type": "code",
   "execution_count": 598,
   "metadata": {},
   "outputs": [
    {
     "data": {
      "text/plain": [
       "(902, 5)"
      ]
     },
     "execution_count": 598,
     "metadata": {},
     "output_type": "execute_result"
    }
   ],
   "source": [
    "tags.groupby('actual').size()\n",
    "tags.shape"
   ]
  },
  {
   "cell_type": "code",
   "execution_count": 599,
   "metadata": {},
   "outputs": [
    {
     "data": {
      "text/html": [
       "<div>\n",
       "<style scoped>\n",
       "    .dataframe tbody tr th:only-of-type {\n",
       "        vertical-align: middle;\n",
       "    }\n",
       "\n",
       "    .dataframe tbody tr th {\n",
       "        vertical-align: top;\n",
       "    }\n",
       "\n",
       "    .dataframe thead th {\n",
       "        text-align: right;\n",
       "    }\n",
       "</style>\n",
       "<table border=\"1\" class=\"dataframe\">\n",
       "  <thead>\n",
       "    <tr style=\"text-align: right;\">\n",
       "      <th></th>\n",
       "      <th>Timestamp</th>\n",
       "      <th>EPC</th>\n",
       "      <th>Antenna</th>\n",
       "      <th>RSSI</th>\n",
       "      <th>actual</th>\n",
       "    </tr>\n",
       "  </thead>\n",
       "  <tbody>\n",
       "  </tbody>\n",
       "</table>\n",
       "</div>"
      ],
      "text/plain": [
       "Empty DataFrame\n",
       "Columns: [Timestamp, EPC, Antenna, RSSI, actual]\n",
       "Index: []"
      ]
     },
     "execution_count": 599,
     "metadata": {},
     "output_type": "execute_result"
    }
   ],
   "source": [
    "tags[tags[\"Timestamp\"].isna()]"
   ]
  },
  {
   "cell_type": "code",
   "execution_count": 600,
   "metadata": {},
   "outputs": [
    {
     "data": {
      "text/html": [
       "<div>\n",
       "<style scoped>\n",
       "    .dataframe tbody tr th:only-of-type {\n",
       "        vertical-align: middle;\n",
       "    }\n",
       "\n",
       "    .dataframe tbody tr th {\n",
       "        vertical-align: top;\n",
       "    }\n",
       "\n",
       "    .dataframe thead th {\n",
       "        text-align: right;\n",
       "    }\n",
       "</style>\n",
       "<table border=\"1\" class=\"dataframe\">\n",
       "  <thead>\n",
       "    <tr style=\"text-align: right;\">\n",
       "      <th></th>\n",
       "      <th>Timestamp</th>\n",
       "      <th>EPC</th>\n",
       "      <th>Antenna</th>\n",
       "      <th>RSSI</th>\n",
       "      <th>actual</th>\n",
       "    </tr>\n",
       "  </thead>\n",
       "  <tbody>\n",
       "    <tr>\n",
       "      <th>0</th>\n",
       "      <td>2024-12-13 13:58:18.771874+01:00</td>\n",
       "      <td>000000100000017450404665</td>\n",
       "      <td>1</td>\n",
       "      <td>-76.0</td>\n",
       "      <td>N</td>\n",
       "    </tr>\n",
       "    <tr>\n",
       "      <th>1</th>\n",
       "      <td>2024-12-13 13:58:20.047636+01:00</td>\n",
       "      <td>000000100000017450404665</td>\n",
       "      <td>3</td>\n",
       "      <td>-74.5</td>\n",
       "      <td>N</td>\n",
       "    </tr>\n",
       "    <tr>\n",
       "      <th>2</th>\n",
       "      <td>2024-12-13 13:58:21.309841+01:00</td>\n",
       "      <td>000000100000017450404665</td>\n",
       "      <td>3</td>\n",
       "      <td>-77.0</td>\n",
       "      <td>N</td>\n",
       "    </tr>\n",
       "    <tr>\n",
       "      <th>3</th>\n",
       "      <td>2024-12-13 13:58:22.711631+01:00</td>\n",
       "      <td>000000100000017450404665</td>\n",
       "      <td>3</td>\n",
       "      <td>-70.5</td>\n",
       "      <td>N</td>\n",
       "    </tr>\n",
       "    <tr>\n",
       "      <th>4</th>\n",
       "      <td>2024-12-13 13:58:24.021113+01:00</td>\n",
       "      <td>000000100000017450404665</td>\n",
       "      <td>1</td>\n",
       "      <td>-76.0</td>\n",
       "      <td>N</td>\n",
       "    </tr>\n",
       "  </tbody>\n",
       "</table>\n",
       "</div>"
      ],
      "text/plain": [
       "                         Timestamp                       EPC  Antenna  RSSI   \n",
       "0 2024-12-13 13:58:18.771874+01:00  000000100000017450404665        1 -76.0  \\\n",
       "1 2024-12-13 13:58:20.047636+01:00  000000100000017450404665        3 -74.5   \n",
       "2 2024-12-13 13:58:21.309841+01:00  000000100000017450404665        3 -77.0   \n",
       "3 2024-12-13 13:58:22.711631+01:00  000000100000017450404665        3 -70.5   \n",
       "4 2024-12-13 13:58:24.021113+01:00  000000100000017450404665        1 -76.0   \n",
       "\n",
       "  actual  \n",
       "0      N  \n",
       "1      N  \n",
       "2      N  \n",
       "3      N  \n",
       "4      N  "
      ]
     },
     "execution_count": 600,
     "metadata": {},
     "output_type": "execute_result"
    }
   ],
   "source": [
    "tags.head()"
   ]
  },
  {
   "cell_type": "code",
   "execution_count": 601,
   "metadata": {},
   "outputs": [
    {
     "data": {
      "text/html": [
       "<div>\n",
       "<style scoped>\n",
       "    .dataframe tbody tr th:only-of-type {\n",
       "        vertical-align: middle;\n",
       "    }\n",
       "\n",
       "    .dataframe tbody tr th {\n",
       "        vertical-align: top;\n",
       "    }\n",
       "\n",
       "    .dataframe thead th {\n",
       "        text-align: right;\n",
       "    }\n",
       "</style>\n",
       "<table border=\"1\" class=\"dataframe\">\n",
       "  <thead>\n",
       "    <tr style=\"text-align: right;\">\n",
       "      <th></th>\n",
       "      <th>Timestamp</th>\n",
       "      <th>EPC</th>\n",
       "      <th>Antenna</th>\n",
       "      <th>RSSI</th>\n",
       "    </tr>\n",
       "    <tr>\n",
       "      <th>actual</th>\n",
       "      <th></th>\n",
       "      <th></th>\n",
       "      <th></th>\n",
       "      <th></th>\n",
       "    </tr>\n",
       "  </thead>\n",
       "  <tbody>\n",
       "    <tr>\n",
       "      <th>N</th>\n",
       "      <td>391</td>\n",
       "      <td>91</td>\n",
       "      <td>4</td>\n",
       "      <td>40</td>\n",
       "    </tr>\n",
       "    <tr>\n",
       "      <th>P</th>\n",
       "      <td>511</td>\n",
       "      <td>100</td>\n",
       "      <td>4</td>\n",
       "      <td>53</td>\n",
       "    </tr>\n",
       "  </tbody>\n",
       "</table>\n",
       "</div>"
      ],
      "text/plain": [
       "        Timestamp  EPC  Antenna  RSSI\n",
       "actual                               \n",
       "N             391   91        4    40\n",
       "P             511  100        4    53"
      ]
     },
     "execution_count": 601,
     "metadata": {},
     "output_type": "execute_result"
    }
   ],
   "source": [
    "tags.groupby('actual').nunique()"
   ]
  },
  {
   "cell_type": "code",
   "execution_count": 602,
   "metadata": {},
   "outputs": [
    {
     "data": {
      "text/plain": [
       "actual\n",
       "N     91\n",
       "P    100\n",
       "Name: EPC, dtype: int64"
      ]
     },
     "execution_count": 602,
     "metadata": {},
     "output_type": "execute_result"
    }
   ],
   "source": [
    "tags.groupby('actual')[\"EPC\"].nunique()"
   ]
  },
  {
   "cell_type": "code",
   "execution_count": 603,
   "metadata": {},
   "outputs": [
    {
     "name": "stdout",
     "output_type": "stream",
     "text": [
      "N\n",
      "                           Timestamp                       EPC  Antenna  RSSI   \n",
      "0   2024-12-13 13:58:18.771874+01:00  000000100000017450404665        1 -76.0  \\\n",
      "1   2024-12-13 13:58:20.047636+01:00  000000100000017450404665        3 -74.5   \n",
      "2   2024-12-13 13:58:21.309841+01:00  000000100000017450404665        3 -77.0   \n",
      "3   2024-12-13 13:58:22.711631+01:00  000000100000017450404665        3 -70.5   \n",
      "4   2024-12-13 13:58:24.021113+01:00  000000100000017450404665        1 -76.0   \n",
      "..                               ...                       ...      ...   ...   \n",
      "897 2024-12-13 13:58:24.290915+01:00  000000100000017450401479        4 -79.5   \n",
      "898 2024-12-13 13:58:23.761544+01:00  0000001000000174504026DE        3 -77.0   \n",
      "899 2024-12-13 13:58:23.774646+01:00  000000100000017450394368        3 -76.5   \n",
      "900 2024-12-13 13:58:24.043776+01:00  0000001000000174503959F0        1 -79.0   \n",
      "901 2024-12-13 13:58:25.630877+01:00  0000001000000174503959F0        3 -77.5   \n",
      "\n",
      "    actual  \n",
      "0        N  \n",
      "1        N  \n",
      "2        N  \n",
      "3        N  \n",
      "4        N  \n",
      "..     ...  \n",
      "897      N  \n",
      "898      N  \n",
      "899      N  \n",
      "900      N  \n",
      "901      N  \n",
      "\n",
      "[391 rows x 5 columns]\n",
      "P\n",
      "                           Timestamp                       EPC  Antenna  RSSI   \n",
      "41  2024-12-13 13:58:18.855614+01:00  000000100000017450390006        3 -75.0  \\\n",
      "42  2024-12-13 13:58:20.377564+01:00  000000100000017450390006        3 -68.0   \n",
      "43  2024-12-13 13:58:21.729041+01:00  000000100000017450390006        3 -62.5   \n",
      "44  2024-12-13 13:58:23.065176+01:00  000000100000017450390006        3 -62.0   \n",
      "45  2024-12-13 13:58:24.433676+01:00  000000100000017450390006        1 -73.5   \n",
      "..                               ...                       ...      ...   ...   \n",
      "886 2024-12-13 13:58:24.848052+01:00  00000010000001745038975C        2 -70.5   \n",
      "887 2024-12-13 13:58:20.904941+01:00  000000100000017450388088        3 -72.5   \n",
      "888 2024-12-13 13:58:22.248288+01:00  000000100000017450388088        3 -62.5   \n",
      "889 2024-12-13 13:58:23.703932+01:00  000000100000017450388088        1 -72.5   \n",
      "890 2024-12-13 13:58:25.118345+01:00  000000100000017450388088        2 -67.5   \n",
      "\n",
      "    actual  \n",
      "41       P  \n",
      "42       P  \n",
      "43       P  \n",
      "44       P  \n",
      "45       P  \n",
      "..     ...  \n",
      "886      P  \n",
      "887      P  \n",
      "888      P  \n",
      "889      P  \n",
      "890      P  \n",
      "\n",
      "[511 rows x 5 columns]\n"
     ]
    }
   ],
   "source": [
    "for key, tags_key in tags.groupby('actual'):\n",
    "    print(key)\n",
    "    print(tags_key)"
   ]
  },
  {
   "cell_type": "code",
   "execution_count": 604,
   "metadata": {},
   "outputs": [
    {
     "data": {
      "text/plain": [
       "191"
      ]
     },
     "execution_count": 604,
     "metadata": {},
     "output_type": "execute_result"
    }
   ],
   "source": [
    "tags[\"EPC\"].nunique()"
   ]
  },
  {
   "cell_type": "code",
   "execution_count": 605,
   "metadata": {},
   "outputs": [
    {
     "data": {
      "text/plain": [
       "(1, 6, 4.722513089005235, 5.0)"
      ]
     },
     "execution_count": 605,
     "metadata": {},
     "output_type": "execute_result"
    }
   ],
   "source": [
    "# Nombre de détection par tag\n",
    "numberOfDetection = tags.groupby('EPC').size()\n",
    "numberOfDetection.min(), numberOfDetection.max(), numberOfDetection.mean(), numberOfDetection.median()"
   ]
  },
  {
   "cell_type": "code",
   "execution_count": 606,
   "metadata": {},
   "outputs": [
    {
     "data": {
      "text/plain": [
       "count    191.000000\n",
       "mean       4.722513\n",
       "std        1.188305\n",
       "min        1.000000\n",
       "25%        5.000000\n",
       "50%        5.000000\n",
       "75%        5.000000\n",
       "max        6.000000\n",
       "dtype: float64"
      ]
     },
     "execution_count": 606,
     "metadata": {},
     "output_type": "execute_result"
    }
   ],
   "source": [
    "tags.groupby('EPC').size().describe()"
   ]
  },
  {
   "cell_type": "code",
   "execution_count": 607,
   "metadata": {},
   "outputs": [
    {
     "data": {
      "text/plain": [
       "<Axes: xlabel='Timestamp', ylabel='RSSI'>"
      ]
     },
     "execution_count": 607,
     "metadata": {},
     "output_type": "execute_result"
    },
    {
     "data": {
      "image/png": "[encoded data removed]",
      "text/plain": [
       "<Figure size 640x480 with 1 Axes>"
      ]
     },
     "metadata": {},
     "output_type": "display_data"
    }
   ],
   "source": [
    "# Graphe RSSI en fonction du temps\n",
    "sns.scatterplot(x=\"Timestamp\", y=\"RSSI\", data=tags, hue=\"actual\")"
   ]
  },
  {
   "cell_type": "code",
   "execution_count": 608,
   "metadata": {},
   "outputs": [
    {
     "data": {
      "text/html": [
       "<div>\n",
       "<style scoped>\n",
       "    .dataframe tbody tr th:only-of-type {\n",
       "        vertical-align: middle;\n",
       "    }\n",
       "\n",
       "    .dataframe tbody tr th {\n",
       "        vertical-align: top;\n",
       "    }\n",
       "\n",
       "    .dataframe thead th {\n",
       "        text-align: right;\n",
       "    }\n",
       "</style>\n",
       "<table border=\"1\" class=\"dataframe\">\n",
       "  <thead>\n",
       "    <tr style=\"text-align: right;\">\n",
       "      <th></th>\n",
       "      <th>Timestamp</th>\n",
       "      <th>EPC</th>\n",
       "      <th>Antenna</th>\n",
       "      <th>RSSI</th>\n",
       "      <th>actual</th>\n",
       "      <th>Antenna coverage</th>\n",
       "    </tr>\n",
       "  </thead>\n",
       "  <tbody>\n",
       "    <tr>\n",
       "      <th>0</th>\n",
       "      <td>2024-12-13 13:58:18.771874+01:00</td>\n",
       "      <td>000000100000017450404665</td>\n",
       "      <td>1</td>\n",
       "      <td>-76.0</td>\n",
       "      <td>N</td>\n",
       "      <td>Out</td>\n",
       "    </tr>\n",
       "    <tr>\n",
       "      <th>1</th>\n",
       "      <td>2024-12-13 13:58:20.047636+01:00</td>\n",
       "      <td>000000100000017450404665</td>\n",
       "      <td>3</td>\n",
       "      <td>-74.5</td>\n",
       "      <td>N</td>\n",
       "      <td>In</td>\n",
       "    </tr>\n",
       "    <tr>\n",
       "      <th>2</th>\n",
       "      <td>2024-12-13 13:58:21.309841+01:00</td>\n",
       "      <td>000000100000017450404665</td>\n",
       "      <td>3</td>\n",
       "      <td>-77.0</td>\n",
       "      <td>N</td>\n",
       "      <td>In</td>\n",
       "    </tr>\n",
       "    <tr>\n",
       "      <th>3</th>\n",
       "      <td>2024-12-13 13:58:22.711631+01:00</td>\n",
       "      <td>000000100000017450404665</td>\n",
       "      <td>3</td>\n",
       "      <td>-70.5</td>\n",
       "      <td>N</td>\n",
       "      <td>In</td>\n",
       "    </tr>\n",
       "    <tr>\n",
       "      <th>4</th>\n",
       "      <td>2024-12-13 13:58:24.021113+01:00</td>\n",
       "      <td>000000100000017450404665</td>\n",
       "      <td>1</td>\n",
       "      <td>-76.0</td>\n",
       "      <td>N</td>\n",
       "      <td>Out</td>\n",
       "    </tr>\n",
       "    <tr>\n",
       "      <th>...</th>\n",
       "      <td>...</td>\n",
       "      <td>...</td>\n",
       "      <td>...</td>\n",
       "      <td>...</td>\n",
       "      <td>...</td>\n",
       "      <td>...</td>\n",
       "    </tr>\n",
       "    <tr>\n",
       "      <th>897</th>\n",
       "      <td>2024-12-13 13:58:24.290915+01:00</td>\n",
       "      <td>000000100000017450401479</td>\n",
       "      <td>4</td>\n",
       "      <td>-79.5</td>\n",
       "      <td>N</td>\n",
       "      <td>In</td>\n",
       "    </tr>\n",
       "    <tr>\n",
       "      <th>898</th>\n",
       "      <td>2024-12-13 13:58:23.761544+01:00</td>\n",
       "      <td>0000001000000174504026DE</td>\n",
       "      <td>3</td>\n",
       "      <td>-77.0</td>\n",
       "      <td>N</td>\n",
       "      <td>In</td>\n",
       "    </tr>\n",
       "    <tr>\n",
       "      <th>899</th>\n",
       "      <td>2024-12-13 13:58:23.774646+01:00</td>\n",
       "      <td>000000100000017450394368</td>\n",
       "      <td>3</td>\n",
       "      <td>-76.5</td>\n",
       "      <td>N</td>\n",
       "      <td>In</td>\n",
       "    </tr>\n",
       "    <tr>\n",
       "      <th>900</th>\n",
       "      <td>2024-12-13 13:58:24.043776+01:00</td>\n",
       "      <td>0000001000000174503959F0</td>\n",
       "      <td>1</td>\n",
       "      <td>-79.0</td>\n",
       "      <td>N</td>\n",
       "      <td>Out</td>\n",
       "    </tr>\n",
       "    <tr>\n",
       "      <th>901</th>\n",
       "      <td>2024-12-13 13:58:25.630877+01:00</td>\n",
       "      <td>0000001000000174503959F0</td>\n",
       "      <td>3</td>\n",
       "      <td>-77.5</td>\n",
       "      <td>N</td>\n",
       "      <td>In</td>\n",
       "    </tr>\n",
       "  </tbody>\n",
       "</table>\n",
       "<p>902 rows × 6 columns</p>\n",
       "</div>"
      ],
      "text/plain": [
       "                           Timestamp                       EPC  Antenna  RSSI   \n",
       "0   2024-12-13 13:58:18.771874+01:00  000000100000017450404665        1 -76.0  \\\n",
       "1   2024-12-13 13:58:20.047636+01:00  000000100000017450404665        3 -74.5   \n",
       "2   2024-12-13 13:58:21.309841+01:00  000000100000017450404665        3 -77.0   \n",
       "3   2024-12-13 13:58:22.711631+01:00  000000100000017450404665        3 -70.5   \n",
       "4   2024-12-13 13:58:24.021113+01:00  000000100000017450404665        1 -76.0   \n",
       "..                               ...                       ...      ...   ...   \n",
       "897 2024-12-13 13:58:24.290915+01:00  000000100000017450401479        4 -79.5   \n",
       "898 2024-12-13 13:58:23.761544+01:00  0000001000000174504026DE        3 -77.0   \n",
       "899 2024-12-13 13:58:23.774646+01:00  000000100000017450394368        3 -76.5   \n",
       "900 2024-12-13 13:58:24.043776+01:00  0000001000000174503959F0        1 -79.0   \n",
       "901 2024-12-13 13:58:25.630877+01:00  0000001000000174503959F0        3 -77.5   \n",
       "\n",
       "    actual Antenna coverage  \n",
       "0        N              Out  \n",
       "1        N               In  \n",
       "2        N               In  \n",
       "3        N               In  \n",
       "4        N              Out  \n",
       "..     ...              ...  \n",
       "897      N               In  \n",
       "898      N               In  \n",
       "899      N               In  \n",
       "900      N              Out  \n",
       "901      N               In  \n",
       "\n",
       "[902 rows x 6 columns]"
      ]
     },
     "execution_count": 608,
     "metadata": {},
     "output_type": "execute_result"
    }
   ],
   "source": [
    "tags[\"Antenna coverage\"] = tags[\"Antenna\"].apply(lambda x: \"In\" if x in [3, 4] else \"Out\")\n",
    "tags"
   ]
  },
  {
   "cell_type": "code",
   "execution_count": 609,
   "metadata": {},
   "outputs": [
    {
     "data": {
      "text/plain": [
       "<Axes: xlabel='Timestamp', ylabel='RSSI'>"
      ]
     },
     "execution_count": 609,
     "metadata": {},
     "output_type": "execute_result"
    },
    {
     "data": {
      "image/png": "[encoded data removed]",
      "text/plain": [
       "<Figure size 640x480 with 1 Axes>"
      ]
     },
     "metadata": {},
     "output_type": "display_data"
    }
   ],
   "source": [
    "sns.scatterplot(x=\"Timestamp\", y=\"RSSI\", data=tags, hue=\"Antenna coverage\")"
   ]
  },
  {
   "cell_type": "code",
   "execution_count": 610,
   "metadata": {},
   "outputs": [
    {
     "name": "stdout",
     "output_type": "stream",
     "text": [
      "N In\n",
      "                           Timestamp                       EPC  Antenna  RSSI   \n",
      "1   2024-12-13 13:58:20.047636+01:00  000000100000017450404665        3 -74.5  \\\n",
      "2   2024-12-13 13:58:21.309841+01:00  000000100000017450404665        3 -77.0   \n",
      "3   2024-12-13 13:58:22.711631+01:00  000000100000017450404665        3 -70.5   \n",
      "5   2024-12-13 13:58:25.327385+01:00  000000100000017450404665        4 -76.0   \n",
      "7   2024-12-13 13:58:20.035258+01:00  0000001000000174504052E2        3 -64.0   \n",
      "..                               ...                       ...      ...   ...   \n",
      "896 2024-12-13 13:58:22.276104+01:00  000000100000017450401479        3 -79.0   \n",
      "897 2024-12-13 13:58:24.290915+01:00  000000100000017450401479        4 -79.5   \n",
      "898 2024-12-13 13:58:23.761544+01:00  0000001000000174504026DE        3 -77.0   \n",
      "899 2024-12-13 13:58:23.774646+01:00  000000100000017450394368        3 -76.5   \n",
      "901 2024-12-13 13:58:25.630877+01:00  0000001000000174503959F0        3 -77.5   \n",
      "\n",
      "    actual Antenna coverage  \n",
      "1        N               In  \n",
      "2        N               In  \n",
      "3        N               In  \n",
      "5        N               In  \n",
      "7        N               In  \n",
      "..     ...              ...  \n",
      "896      N               In  \n",
      "897      N               In  \n",
      "898      N               In  \n",
      "899      N               In  \n",
      "901      N               In  \n",
      "\n",
      "[367 rows x 6 columns]\n",
      "N Out\n",
      "                           Timestamp                       EPC  Antenna  RSSI   \n",
      "0   2024-12-13 13:58:18.771874+01:00  000000100000017450404665        1 -76.0  \\\n",
      "4   2024-12-13 13:58:24.021113+01:00  000000100000017450404665        1 -76.0   \n",
      "6   2024-12-13 13:58:18.775778+01:00  0000001000000174504052E2        1 -76.5   \n",
      "12  2024-12-13 13:58:18.781405+01:00  0000001000000174504001CF        1 -79.0   \n",
      "16  2024-12-13 13:58:25.103816+01:00  0000001000000174504001CF        1 -79.5   \n",
      "17  2024-12-13 13:58:18.825150+01:00  0000001000000174504028C1        2 -75.0   \n",
      "18  2024-12-13 13:58:20.504994+01:00  0000001000000174504028C1        2 -79.0   \n",
      "19  2024-12-13 13:58:22.199834+01:00  0000001000000174504028C1        2 -79.0   \n",
      "20  2024-12-13 13:58:23.738709+01:00  0000001000000174504028C1        2 -77.5   \n",
      "135 2024-12-13 13:58:20.259652+01:00  00000010000001745039532B        1 -77.0   \n",
      "138 2024-12-13 13:58:24.469357+01:00  00000010000001745039532B        2 -77.0   \n",
      "257 2024-12-13 13:58:20.262863+01:00  000000100000017450403882        1 -79.5   \n",
      "359 2024-12-13 13:58:25.066312+01:00  00000010000001745039814D        1 -78.0   \n",
      "395 2024-12-13 13:58:19.171109+01:00  000000100000017450402078        1 -79.5   \n",
      "397 2024-12-13 13:58:19.181016+01:00  00000010000001745040487A        1 -79.0   \n",
      "398 2024-12-13 13:58:20.860332+01:00  00000010000001745040487A        1 -77.0   \n",
      "399 2024-12-13 13:58:23.130465+01:00  00000010000001745040487A        1 -78.5   \n",
      "400 2024-12-13 13:58:25.072476+01:00  00000010000001745040487A        1 -79.5   \n",
      "552 2024-12-13 13:58:19.493346+01:00  00000010000001745039558D        1 -80.0   \n",
      "556 2024-12-13 13:58:25.996028+01:00  00000010000001745039558D        1 -79.5   \n",
      "683 2024-12-13 13:58:24.465535+01:00  00000010000001745039903F        2 -75.5   \n",
      "766 2024-12-13 13:58:23.924575+01:00  000000100000017450399699        2 -79.0   \n",
      "767 2024-12-13 13:58:26.189831+01:00  000000100000017450399699        2 -80.0   \n",
      "900 2024-12-13 13:58:24.043776+01:00  0000001000000174503959F0        1 -79.0   \n",
      "\n",
      "    actual Antenna coverage  \n",
      "0        N              Out  \n",
      "4        N              Out  \n",
      "6        N              Out  \n",
      "12       N              Out  \n",
      "16       N              Out  \n",
      "17       N              Out  \n",
      "18       N              Out  \n",
      "19       N              Out  \n",
      "20       N              Out  \n",
      "135      N              Out  \n",
      "138      N              Out  \n",
      "257      N              Out  \n",
      "359      N              Out  \n",
      "395      N              Out  \n",
      "397      N              Out  \n",
      "398      N              Out  \n",
      "399      N              Out  \n",
      "400      N              Out  \n",
      "552      N              Out  \n",
      "556      N              Out  \n",
      "683      N              Out  \n",
      "766      N              Out  \n",
      "767      N              Out  \n",
      "900      N              Out  \n",
      "P In\n",
      "                           Timestamp                       EPC  Antenna  RSSI   \n",
      "41  2024-12-13 13:58:18.855614+01:00  000000100000017450390006        3 -75.0  \\\n",
      "42  2024-12-13 13:58:20.377564+01:00  000000100000017450390006        3 -68.0   \n",
      "43  2024-12-13 13:58:21.729041+01:00  000000100000017450390006        3 -62.5   \n",
      "44  2024-12-13 13:58:23.065176+01:00  000000100000017450390006        3 -62.0   \n",
      "66  2024-12-13 13:58:18.873894+01:00  000000100000017450386178        3 -76.0   \n",
      "..                               ...                       ...      ...   ...   \n",
      "883 2024-12-13 13:58:20.799831+01:00  00000010000001745038975C        4 -75.0   \n",
      "884 2024-12-13 13:58:22.125808+01:00  00000010000001745038975C        4 -64.0   \n",
      "885 2024-12-13 13:58:23.381884+01:00  00000010000001745038975C        3 -67.5   \n",
      "887 2024-12-13 13:58:20.904941+01:00  000000100000017450388088        3 -72.5   \n",
      "888 2024-12-13 13:58:22.248288+01:00  000000100000017450388088        3 -62.5   \n",
      "\n",
      "    actual Antenna coverage  \n",
      "41       P               In  \n",
      "42       P               In  \n",
      "43       P               In  \n",
      "44       P               In  \n",
      "66       P               In  \n",
      "..     ...              ...  \n",
      "883      P               In  \n",
      "884      P               In  \n",
      "885      P               In  \n",
      "887      P               In  \n",
      "888      P               In  \n",
      "\n",
      "[295 rows x 6 columns]\n",
      "P Out\n",
      "                           Timestamp                       EPC  Antenna  RSSI   \n",
      "45  2024-12-13 13:58:24.433676+01:00  000000100000017450390006        1 -73.5  \\\n",
      "46  2024-12-13 13:58:26.171656+01:00  000000100000017450390006        2 -72.0   \n",
      "70  2024-12-13 13:58:24.689248+01:00  000000100000017450386178        1 -65.5   \n",
      "81  2024-12-13 13:58:22.920930+01:00  0000001000000174503882EA        2 -66.0   \n",
      "82  2024-12-13 13:58:24.211035+01:00  0000001000000174503882EA        2 -65.0   \n",
      "..                               ...                       ...      ...   ...   \n",
      "881 2024-12-13 13:58:24.676286+01:00  000000100000017450394882        1 -72.0   \n",
      "882 2024-12-13 13:58:26.139613+01:00  000000100000017450394882        1 -72.5   \n",
      "886 2024-12-13 13:58:24.848052+01:00  00000010000001745038975C        2 -70.5   \n",
      "889 2024-12-13 13:58:23.703932+01:00  000000100000017450388088        1 -72.5   \n",
      "890 2024-12-13 13:58:25.118345+01:00  000000100000017450388088        2 -67.5   \n",
      "\n",
      "    actual Antenna coverage  \n",
      "45       P              Out  \n",
      "46       P              Out  \n",
      "70       P              Out  \n",
      "81       P              Out  \n",
      "82       P              Out  \n",
      "..     ...              ...  \n",
      "881      P              Out  \n",
      "882      P              Out  \n",
      "886      P              Out  \n",
      "889      P              Out  \n",
      "890      P              Out  \n",
      "\n",
      "[216 rows x 6 columns]\n"
     ]
    }
   ],
   "source": [
    "tags.groupby([\"actual\", \"Antenna coverage\"])\n",
    "\n",
    "for (actual, antenna_coverage), tags_key in tags.groupby([\"actual\", \"Antenna coverage\"]):\n",
    "    print(actual, antenna_coverage)\n",
    "    print(tags_key)"
   ]
  },
  {
   "cell_type": "code",
   "execution_count": 611,
   "metadata": {},
   "outputs": [],
   "source": [
    "marker_dict = {\"P\": \"o\", \"N\": \"+\"}\n",
    "color_dict = {\"In\": \"blue\", \"Out\": \"red\"}"
   ]
  },
  {
   "cell_type": "code",
   "execution_count": 612,
   "metadata": {},
   "outputs": [
    {
     "data": {
      "image/png": "[encoded data removed]",
      "text/plain": [
       "<Figure size 640x480 with 1 Axes>"
      ]
     },
     "metadata": {},
     "output_type": "display_data"
    },
    {
     "data": {
      "image/png": "[encoded data removed]",
      "text/plain": [
       "<Figure size 640x480 with 1 Axes>"
      ]
     },
     "metadata": {},
     "output_type": "display_data"
    },
    {
     "data": {
      "image/png": "[encoded data removed]",
      "text/plain": [
       "<Figure size 640x480 with 1 Axes>"
      ]
     },
     "metadata": {},
     "output_type": "display_data"
    },
    {
     "data": {
      "image/png": "[encoded data removed]",
      "text/plain": [
       "<Figure size 640x480 with 1 Axes>"
      ]
     },
     "metadata": {},
     "output_type": "display_data"
    }
   ],
   "source": [
    "tags.groupby([\"actual\", \"Antenna coverage\"])\n",
    "\n",
    "for (actual, antenna_coverage), tags_key in tags.groupby([\"actual\", \"Antenna coverage\"]):\n",
    "    c = color_dict[antenna_coverage]\n",
    "    m = marker_dict[actual]\n",
    "\n",
    "    sns.scatterplot(x=\"Timestamp\", y=\"RSSI\", data=tags_key, color=c, marker=m)\n",
    "    plt.show()"
   ]
  },
  {
   "cell_type": "code",
   "execution_count": 613,
   "metadata": {},
   "outputs": [
    {
     "data": {
      "image/png": "[encoded data removed]",
      "text/plain": [
       "<Figure size 640x480 with 1 Axes>"
      ]
     },
     "metadata": {},
     "output_type": "display_data"
    }
   ],
   "source": [
    "tags.groupby([\"actual\", \"Antenna coverage\"])\n",
    "\n",
    "for (actual, antenna_coverage), tags_key in tags.groupby([\"actual\", \"Antenna coverage\"]):\n",
    "    c = color_dict[antenna_coverage]\n",
    "    m = marker_dict[actual]\n",
    "\n",
    "    sns.scatterplot(x=\"Timestamp\", y=\"RSSI\", data=tags_key, color=c, marker=m)"
   ]
  },
  {
   "cell_type": "code",
   "execution_count": 614,
   "metadata": {},
   "outputs": [
    {
     "data": {
      "text/html": [
       "<div>\n",
       "<style scoped>\n",
       "    .dataframe tbody tr th:only-of-type {\n",
       "        vertical-align: middle;\n",
       "    }\n",
       "\n",
       "    .dataframe tbody tr th {\n",
       "        vertical-align: top;\n",
       "    }\n",
       "\n",
       "    .dataframe thead th {\n",
       "        text-align: right;\n",
       "    }\n",
       "</style>\n",
       "<table border=\"1\" class=\"dataframe\">\n",
       "  <thead>\n",
       "    <tr style=\"text-align: right;\">\n",
       "      <th></th>\n",
       "      <th>Timestamp</th>\n",
       "      <th>EPC</th>\n",
       "      <th>Antenna</th>\n",
       "      <th>RSSI</th>\n",
       "      <th>actual</th>\n",
       "      <th>Antenna coverage</th>\n",
       "    </tr>\n",
       "  </thead>\n",
       "  <tbody>\n",
       "    <tr>\n",
       "      <th>0</th>\n",
       "      <td>2024-12-13 13:58:18.771874+01:00</td>\n",
       "      <td>000000100000017450404665</td>\n",
       "      <td>1</td>\n",
       "      <td>-76.0</td>\n",
       "      <td>N</td>\n",
       "      <td>Out</td>\n",
       "    </tr>\n",
       "    <tr>\n",
       "      <th>1</th>\n",
       "      <td>2024-12-13 13:58:20.047636+01:00</td>\n",
       "      <td>000000100000017450404665</td>\n",
       "      <td>3</td>\n",
       "      <td>-74.5</td>\n",
       "      <td>N</td>\n",
       "      <td>In</td>\n",
       "    </tr>\n",
       "    <tr>\n",
       "      <th>2</th>\n",
       "      <td>2024-12-13 13:58:21.309841+01:00</td>\n",
       "      <td>000000100000017450404665</td>\n",
       "      <td>3</td>\n",
       "      <td>-77.0</td>\n",
       "      <td>N</td>\n",
       "      <td>In</td>\n",
       "    </tr>\n",
       "    <tr>\n",
       "      <th>3</th>\n",
       "      <td>2024-12-13 13:58:22.711631+01:00</td>\n",
       "      <td>000000100000017450404665</td>\n",
       "      <td>3</td>\n",
       "      <td>-70.5</td>\n",
       "      <td>N</td>\n",
       "      <td>In</td>\n",
       "    </tr>\n",
       "    <tr>\n",
       "      <th>4</th>\n",
       "      <td>2024-12-13 13:58:24.021113+01:00</td>\n",
       "      <td>000000100000017450404665</td>\n",
       "      <td>1</td>\n",
       "      <td>-76.0</td>\n",
       "      <td>N</td>\n",
       "      <td>Out</td>\n",
       "    </tr>\n",
       "  </tbody>\n",
       "</table>\n",
       "</div>"
      ],
      "text/plain": [
       "                         Timestamp                       EPC  Antenna  RSSI   \n",
       "0 2024-12-13 13:58:18.771874+01:00  000000100000017450404665        1 -76.0  \\\n",
       "1 2024-12-13 13:58:20.047636+01:00  000000100000017450404665        3 -74.5   \n",
       "2 2024-12-13 13:58:21.309841+01:00  000000100000017450404665        3 -77.0   \n",
       "3 2024-12-13 13:58:22.711631+01:00  000000100000017450404665        3 -70.5   \n",
       "4 2024-12-13 13:58:24.021113+01:00  000000100000017450404665        1 -76.0   \n",
       "\n",
       "  actual Antenna coverage  \n",
       "0      N              Out  \n",
       "1      N               In  \n",
       "2      N               In  \n",
       "3      N               In  \n",
       "4      N              Out  "
      ]
     },
     "execution_count": 614,
     "metadata": {},
     "output_type": "execute_result"
    }
   ],
   "source": [
    "tags.head()"
   ]
  },
  {
   "cell_type": "code",
   "execution_count": 615,
   "metadata": {},
   "outputs": [
    {
     "data": {
      "text/html": [
       "<div>\n",
       "<style scoped>\n",
       "    .dataframe tbody tr th:only-of-type {\n",
       "        vertical-align: middle;\n",
       "    }\n",
       "\n",
       "    .dataframe tbody tr th {\n",
       "        vertical-align: top;\n",
       "    }\n",
       "\n",
       "    .dataframe thead th {\n",
       "        text-align: right;\n",
       "    }\n",
       "</style>\n",
       "<table border=\"1\" class=\"dataframe\">\n",
       "  <thead>\n",
       "    <tr style=\"text-align: right;\">\n",
       "      <th></th>\n",
       "      <th>Timestamp</th>\n",
       "      <th>EPC</th>\n",
       "      <th>Antenna</th>\n",
       "      <th>RSSI</th>\n",
       "      <th>actual</th>\n",
       "      <th>Antenna coverage</th>\n",
       "    </tr>\n",
       "  </thead>\n",
       "  <tbody>\n",
       "    <tr>\n",
       "      <th>378</th>\n",
       "      <td>2024-12-13 13:58:19.143833+01:00</td>\n",
       "      <td>000000100000017450384669</td>\n",
       "      <td>4</td>\n",
       "      <td>-79.0</td>\n",
       "      <td>P</td>\n",
       "      <td>In</td>\n",
       "    </tr>\n",
       "    <tr>\n",
       "      <th>380</th>\n",
       "      <td>2024-12-13 13:58:21.840960+01:00</td>\n",
       "      <td>000000100000017450384669</td>\n",
       "      <td>1</td>\n",
       "      <td>-78.0</td>\n",
       "      <td>P</td>\n",
       "      <td>Out</td>\n",
       "    </tr>\n",
       "    <tr>\n",
       "      <th>379</th>\n",
       "      <td>2024-12-13 13:58:20.552920+01:00</td>\n",
       "      <td>000000100000017450384669</td>\n",
       "      <td>3</td>\n",
       "      <td>-67.5</td>\n",
       "      <td>P</td>\n",
       "      <td>In</td>\n",
       "    </tr>\n",
       "    <tr>\n",
       "      <th>381</th>\n",
       "      <td>2024-12-13 13:58:23.167350+01:00</td>\n",
       "      <td>000000100000017450384669</td>\n",
       "      <td>2</td>\n",
       "      <td>-68.0</td>\n",
       "      <td>P</td>\n",
       "      <td>Out</td>\n",
       "    </tr>\n",
       "    <tr>\n",
       "      <th>382</th>\n",
       "      <td>2024-12-13 13:58:24.581318+01:00</td>\n",
       "      <td>000000100000017450384669</td>\n",
       "      <td>2</td>\n",
       "      <td>-73.0</td>\n",
       "      <td>P</td>\n",
       "      <td>Out</td>\n",
       "    </tr>\n",
       "    <tr>\n",
       "      <th>...</th>\n",
       "      <td>...</td>\n",
       "      <td>...</td>\n",
       "      <td>...</td>\n",
       "      <td>...</td>\n",
       "      <td>...</td>\n",
       "      <td>...</td>\n",
       "    </tr>\n",
       "    <tr>\n",
       "      <th>607</th>\n",
       "      <td>2024-12-13 13:58:19.596088+01:00</td>\n",
       "      <td>0000001000000174518764C3</td>\n",
       "      <td>4</td>\n",
       "      <td>-79.0</td>\n",
       "      <td>N</td>\n",
       "      <td>In</td>\n",
       "    </tr>\n",
       "    <tr>\n",
       "      <th>47</th>\n",
       "      <td>2024-12-13 13:58:18.858662+01:00</td>\n",
       "      <td>0000001000000174518765F2</td>\n",
       "      <td>3</td>\n",
       "      <td>-78.0</td>\n",
       "      <td>N</td>\n",
       "      <td>In</td>\n",
       "    </tr>\n",
       "    <tr>\n",
       "      <th>49</th>\n",
       "      <td>2024-12-13 13:58:22.842510+01:00</td>\n",
       "      <td>0000001000000174518765F2</td>\n",
       "      <td>3</td>\n",
       "      <td>-77.5</td>\n",
       "      <td>N</td>\n",
       "      <td>In</td>\n",
       "    </tr>\n",
       "    <tr>\n",
       "      <th>48</th>\n",
       "      <td>2024-12-13 13:58:21.046663+01:00</td>\n",
       "      <td>0000001000000174518765F2</td>\n",
       "      <td>3</td>\n",
       "      <td>-75.5</td>\n",
       "      <td>N</td>\n",
       "      <td>In</td>\n",
       "    </tr>\n",
       "    <tr>\n",
       "      <th>891</th>\n",
       "      <td>2024-12-13 13:58:21.614638+01:00</td>\n",
       "      <td>0000001000000174518766A1</td>\n",
       "      <td>4</td>\n",
       "      <td>-78.5</td>\n",
       "      <td>N</td>\n",
       "      <td>In</td>\n",
       "    </tr>\n",
       "  </tbody>\n",
       "</table>\n",
       "<p>902 rows × 6 columns</p>\n",
       "</div>"
      ],
      "text/plain": [
       "                           Timestamp                       EPC  Antenna  RSSI   \n",
       "378 2024-12-13 13:58:19.143833+01:00  000000100000017450384669        4 -79.0  \\\n",
       "380 2024-12-13 13:58:21.840960+01:00  000000100000017450384669        1 -78.0   \n",
       "379 2024-12-13 13:58:20.552920+01:00  000000100000017450384669        3 -67.5   \n",
       "381 2024-12-13 13:58:23.167350+01:00  000000100000017450384669        2 -68.0   \n",
       "382 2024-12-13 13:58:24.581318+01:00  000000100000017450384669        2 -73.0   \n",
       "..                               ...                       ...      ...   ...   \n",
       "607 2024-12-13 13:58:19.596088+01:00  0000001000000174518764C3        4 -79.0   \n",
       "47  2024-12-13 13:58:18.858662+01:00  0000001000000174518765F2        3 -78.0   \n",
       "49  2024-12-13 13:58:22.842510+01:00  0000001000000174518765F2        3 -77.5   \n",
       "48  2024-12-13 13:58:21.046663+01:00  0000001000000174518765F2        3 -75.5   \n",
       "891 2024-12-13 13:58:21.614638+01:00  0000001000000174518766A1        4 -78.5   \n",
       "\n",
       "    actual Antenna coverage  \n",
       "378      P               In  \n",
       "380      P              Out  \n",
       "379      P               In  \n",
       "381      P              Out  \n",
       "382      P              Out  \n",
       "..     ...              ...  \n",
       "607      N               In  \n",
       "47       N               In  \n",
       "49       N               In  \n",
       "48       N               In  \n",
       "891      N               In  \n",
       "\n",
       "[902 rows x 6 columns]"
      ]
     },
     "execution_count": 615,
     "metadata": {},
     "output_type": "execute_result"
    }
   ],
   "source": [
    "tags.sort_values(by=\"EPC\")"
   ]
  },
  {
   "cell_type": "code",
   "execution_count": 616,
   "metadata": {},
   "outputs": [
    {
     "data": {
      "text/plain": [
       "EPC\n",
       "000000100000017450384669   -67.5\n",
       "000000100000017450384758   -62.5\n",
       "000000100000017450384947   -76.5\n",
       "0000001000000174503853DF   -58.0\n",
       "000000100000017450385448   -71.5\n",
       "                            ... \n",
       "000000100000017451876265   -64.0\n",
       "000000100000017451876354   -70.0\n",
       "0000001000000174518764C3   -77.5\n",
       "0000001000000174518765F2   -75.5\n",
       "0000001000000174518766A1   -78.5\n",
       "Name: RSSI, Length: 191, dtype: float64"
      ]
     },
     "execution_count": 616,
     "metadata": {},
     "output_type": "execute_result"
    }
   ],
   "source": [
    "tags.groupby(\"EPC\")[\"RSSI\"].max()"
   ]
  },
  {
   "cell_type": "code",
   "execution_count": 617,
   "metadata": {},
   "outputs": [
    {
     "data": {
      "text/html": [
       "<div>\n",
       "<style scoped>\n",
       "    .dataframe tbody tr th:only-of-type {\n",
       "        vertical-align: middle;\n",
       "    }\n",
       "\n",
       "    .dataframe tbody tr th {\n",
       "        vertical-align: top;\n",
       "    }\n",
       "\n",
       "    .dataframe thead th {\n",
       "        text-align: right;\n",
       "    }\n",
       "</style>\n",
       "<table border=\"1\" class=\"dataframe\">\n",
       "  <thead>\n",
       "    <tr style=\"text-align: right;\">\n",
       "      <th></th>\n",
       "      <th>EPC</th>\n",
       "      <th>RSSI max</th>\n",
       "    </tr>\n",
       "  </thead>\n",
       "  <tbody>\n",
       "    <tr>\n",
       "      <th>0</th>\n",
       "      <td>000000100000017450384669</td>\n",
       "      <td>-67.5</td>\n",
       "    </tr>\n",
       "    <tr>\n",
       "      <th>1</th>\n",
       "      <td>000000100000017450384758</td>\n",
       "      <td>-62.5</td>\n",
       "    </tr>\n",
       "    <tr>\n",
       "      <th>2</th>\n",
       "      <td>000000100000017450384947</td>\n",
       "      <td>-76.5</td>\n",
       "    </tr>\n",
       "    <tr>\n",
       "      <th>3</th>\n",
       "      <td>0000001000000174503853DF</td>\n",
       "      <td>-58.0</td>\n",
       "    </tr>\n",
       "    <tr>\n",
       "      <th>4</th>\n",
       "      <td>000000100000017450385448</td>\n",
       "      <td>-71.5</td>\n",
       "    </tr>\n",
       "    <tr>\n",
       "      <th>...</th>\n",
       "      <td>...</td>\n",
       "      <td>...</td>\n",
       "    </tr>\n",
       "    <tr>\n",
       "      <th>186</th>\n",
       "      <td>000000100000017451876265</td>\n",
       "      <td>-64.0</td>\n",
       "    </tr>\n",
       "    <tr>\n",
       "      <th>187</th>\n",
       "      <td>000000100000017451876354</td>\n",
       "      <td>-70.0</td>\n",
       "    </tr>\n",
       "    <tr>\n",
       "      <th>188</th>\n",
       "      <td>0000001000000174518764C3</td>\n",
       "      <td>-77.5</td>\n",
       "    </tr>\n",
       "    <tr>\n",
       "      <th>189</th>\n",
       "      <td>0000001000000174518765F2</td>\n",
       "      <td>-75.5</td>\n",
       "    </tr>\n",
       "    <tr>\n",
       "      <th>190</th>\n",
       "      <td>0000001000000174518766A1</td>\n",
       "      <td>-78.5</td>\n",
       "    </tr>\n",
       "  </tbody>\n",
       "</table>\n",
       "<p>191 rows × 2 columns</p>\n",
       "</div>"
      ],
      "text/plain": [
       "                          EPC  RSSI max\n",
       "0    000000100000017450384669     -67.5\n",
       "1    000000100000017450384758     -62.5\n",
       "2    000000100000017450384947     -76.5\n",
       "3    0000001000000174503853DF     -58.0\n",
       "4    000000100000017450385448     -71.5\n",
       "..                        ...       ...\n",
       "186  000000100000017451876265     -64.0\n",
       "187  000000100000017451876354     -70.0\n",
       "188  0000001000000174518764C3     -77.5\n",
       "189  0000001000000174518765F2     -75.5\n",
       "190  0000001000000174518766A1     -78.5\n",
       "\n",
       "[191 rows x 2 columns]"
      ]
     },
     "execution_count": 617,
     "metadata": {},
     "output_type": "execute_result"
    }
   ],
   "source": [
    "ds = tags.groupby(\"EPC\")[\"RSSI\"].max().rename(\"RSSI max\").reset_index(drop=False)\n",
    "ds"
   ]
  },
  {
   "cell_type": "code",
   "execution_count": 618,
   "metadata": {},
   "outputs": [
    {
     "data": {
      "text/html": [
       "<div>\n",
       "<style scoped>\n",
       "    .dataframe tbody tr th:only-of-type {\n",
       "        vertical-align: middle;\n",
       "    }\n",
       "\n",
       "    .dataframe tbody tr th {\n",
       "        vertical-align: top;\n",
       "    }\n",
       "\n",
       "    .dataframe thead th {\n",
       "        text-align: right;\n",
       "    }\n",
       "</style>\n",
       "<table border=\"1\" class=\"dataframe\">\n",
       "  <thead>\n",
       "    <tr style=\"text-align: right;\">\n",
       "      <th></th>\n",
       "      <th>EPC</th>\n",
       "      <th>RSSI max</th>\n",
       "      <th>actual</th>\n",
       "    </tr>\n",
       "  </thead>\n",
       "  <tbody>\n",
       "    <tr>\n",
       "      <th>0</th>\n",
       "      <td>000000100000017450384669</td>\n",
       "      <td>-67.5</td>\n",
       "      <td>P</td>\n",
       "    </tr>\n",
       "    <tr>\n",
       "      <th>1</th>\n",
       "      <td>000000100000017450384758</td>\n",
       "      <td>-62.5</td>\n",
       "      <td>P</td>\n",
       "    </tr>\n",
       "    <tr>\n",
       "      <th>2</th>\n",
       "      <td>000000100000017450384947</td>\n",
       "      <td>-76.5</td>\n",
       "      <td>N</td>\n",
       "    </tr>\n",
       "    <tr>\n",
       "      <th>3</th>\n",
       "      <td>0000001000000174503853DF</td>\n",
       "      <td>-58.0</td>\n",
       "      <td>P</td>\n",
       "    </tr>\n",
       "    <tr>\n",
       "      <th>4</th>\n",
       "      <td>000000100000017450385448</td>\n",
       "      <td>-71.5</td>\n",
       "      <td>P</td>\n",
       "    </tr>\n",
       "    <tr>\n",
       "      <th>...</th>\n",
       "      <td>...</td>\n",
       "      <td>...</td>\n",
       "      <td>...</td>\n",
       "    </tr>\n",
       "    <tr>\n",
       "      <th>186</th>\n",
       "      <td>000000100000017451876265</td>\n",
       "      <td>-64.0</td>\n",
       "      <td>P</td>\n",
       "    </tr>\n",
       "    <tr>\n",
       "      <th>187</th>\n",
       "      <td>000000100000017451876354</td>\n",
       "      <td>-70.0</td>\n",
       "      <td>N</td>\n",
       "    </tr>\n",
       "    <tr>\n",
       "      <th>188</th>\n",
       "      <td>0000001000000174518764C3</td>\n",
       "      <td>-77.5</td>\n",
       "      <td>N</td>\n",
       "    </tr>\n",
       "    <tr>\n",
       "      <th>189</th>\n",
       "      <td>0000001000000174518765F2</td>\n",
       "      <td>-75.5</td>\n",
       "      <td>N</td>\n",
       "    </tr>\n",
       "    <tr>\n",
       "      <th>190</th>\n",
       "      <td>0000001000000174518766A1</td>\n",
       "      <td>-78.5</td>\n",
       "      <td>N</td>\n",
       "    </tr>\n",
       "  </tbody>\n",
       "</table>\n",
       "<p>191 rows × 3 columns</p>\n",
       "</div>"
      ],
      "text/plain": [
       "                          EPC  RSSI max actual\n",
       "0    000000100000017450384669     -67.5      P\n",
       "1    000000100000017450384758     -62.5      P\n",
       "2    000000100000017450384947     -76.5      N\n",
       "3    0000001000000174503853DF     -58.0      P\n",
       "4    000000100000017450385448     -71.5      P\n",
       "..                        ...       ...    ...\n",
       "186  000000100000017451876265     -64.0      P\n",
       "187  000000100000017451876354     -70.0      N\n",
       "188  0000001000000174518764C3     -77.5      N\n",
       "189  0000001000000174518765F2     -75.5      N\n",
       "190  0000001000000174518766A1     -78.5      N\n",
       "\n",
       "[191 rows x 3 columns]"
      ]
     },
     "execution_count": 618,
     "metadata": {},
     "output_type": "execute_result"
    }
   ],
   "source": [
    "ds = pd.merge(ds, Actuals, on=[\"EPC\"], how=\"inner\")\n",
    "ds"
   ]
  },
  {
   "cell_type": "code",
   "execution_count": 621,
   "metadata": {},
   "outputs": [
    {
     "data": {
      "text/plain": [
       "<Axes: xlabel='actual', ylabel='RSSI max'>"
      ]
     },
     "execution_count": 621,
     "metadata": {},
     "output_type": "execute_result"
    },
    {
     "data": {
      "image/png": "[encoded data removed]",
      "text/plain": [
       "<Figure size 640x480 with 1 Axes>"
      ]
     },
     "metadata": {},
     "output_type": "display_data"
    }
   ],
   "source": [
    "sns.boxplot(x = \"actual\",y=\"RSSI max\", data=ds)"
   ]
  }
 ],
 "metadata": {
  "kernelspec": {
   "display_name": "Python 3",
   "language": "python",
   "name": "python3"
  },
  "language_info": {
   "codemirror_mode": {
    "name": "ipython",
    "version": 3
   },
   "file_extension": ".py",
   "mimetype": "text/x-python",
   "name": "python",
   "nbconvert_exporter": "python",
   "pygments_lexer": "ipython3",
   "version": "3.11.10"
  }
 },
 "nbformat": 4,
 "nbformat_minor": 2
}
